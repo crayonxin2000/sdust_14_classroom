{
 "metadata": {
  "language_info": {
   "codemirror_mode": {
    "name": "ipython",
    "version": 3
   },
   "file_extension": ".py",
   "mimetype": "text/x-python",
   "name": "python",
   "nbconvert_exporter": "python",
   "pygments_lexer": "ipython3",
   "version": "3.8.8"
  },
  "orig_nbformat": 4,
  "kernelspec": {
   "name": "python3",
   "display_name": "Python 3.8.8 64-bit"
  },
  "interpreter": {
   "hash": "004de6046f1b3d314f33fdb43a2dc798b2646e5600efd8df5066c8b63a00ff6d"
  }
 },
 "nbformat": 4,
 "nbformat_minor": 2,
 "cells": [
  {
   "cell_type": "code",
   "execution_count": 6,
   "metadata": {},
   "outputs": [],
   "source": [
    "import requests as r"
   ]
  },
  {
   "cell_type": "code",
   "execution_count": 8,
   "metadata": {},
   "outputs": [],
   "source": [
    "def getCookieDict(cook):\n",
    "    cookies={}#初始化cookies字典变量\n",
    "    for line in cook.split(';'):   #按照字符：进行划分读取\n",
    "        #其设置为1就会把字符串拆分成2份\n",
    "        if line!=\"\":\n",
    "            name,value=line.strip().split('=')\n",
    "            cookies[name]=value  #为字典cookies添加内容\n",
    "    return cookies"
   ]
  },
  {
   "cell_type": "code",
   "execution_count": 10,
   "metadata": {},
   "outputs": [],
   "source": [
    "url=\"http://jwgl.sdust.edu.cn/jsxsd/kbcx/kbxx_classroom_ifr\"\n",
    "cookie_text=\"UM_distinctid=178dabf846387e-0335b78fc680db-3f356b-144000-178dabf8464b70; JSESSIONID=2665278ADA77D8543027CF4816415904\""
   ]
  },
  {
   "cell_type": "code",
   "execution_count": null,
   "metadata": {},
   "outputs": [],
   "source": [
    "def html_to_excel(d):\n",
    "r    epsonse=r.post(url,data=)d;cookies=getCookieDict(cookie_text)\n",
    "    prprint(response)"
   ]
  }
 ]
}