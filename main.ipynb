{
 "metadata": {
  "language_info": {
   "codemirror_mode": {
    "name": "ipython",
    "version": 3
   },
   "file_extension": ".py",
   "mimetype": "text/x-python",
   "name": "python",
   "nbconvert_exporter": "python",
   "pygments_lexer": "ipython3",
   "version": "3.8.8"
  },
  "orig_nbformat": 4,
  "kernelspec": {
   "name": "python3",
   "display_name": "Python 3.8.8 64-bit"
  },
  "interpreter": {
   "hash": "004de6046f1b3d314f33fdb43a2dc798b2646e5600efd8df5066c8b63a00ff6d"
  }
 },
 "nbformat": 4,
 "nbformat_minor": 2,
 "cells": [
  {
   "cell_type": "code",
   "execution_count": 1,
   "source": [
    "import xlwings as xw"
   ],
   "outputs": [],
   "metadata": {}
  },
  {
   "cell_type": "code",
   "execution_count": 12,
   "source": [
    "wb = xw.Book(\"1-30.xlsx\")"
   ],
   "outputs": [],
   "metadata": {}
  },
  {
   "cell_type": "code",
   "execution_count": 13,
   "source": [
    "sht = wb.sheets[\"table\"]"
   ],
   "outputs": [],
   "metadata": {}
  },
  {
   "cell_type": "code",
   "execution_count": 14,
   "source": [
    "info = sht.used_range\r\n",
    "\r\n",
    "nrows = info.last_cell.row\r\n",
    "ncolums=info.last_cell.column"
   ],
   "outputs": [],
   "metadata": {}
  },
  {
   "cell_type": "code",
   "execution_count": 15,
   "source": [
    "dict={}\r\n",
    "for i in rang(enrow0):\r\n",
    "    if i==1 or i==0: # 跳过第一、二行标题\r\n",
    "        continue\r\n",
    "    if ncolums==36:\r\n",
    "        r=sht[i,:]# 选取一行的数据\r\n",
    "        data={}\r\n",
    "        for t in range(35):\r\n",
    "            a=t//5\r\n",
    "            b=t%5\r\n",
    "            if r[0,t+1].value == None:\r\n",
    "                s=\"\"\r\n",
    "            else:\r\n",
    "                s=r[0,t+1].value\r\n",
    "            data[str(a)+\"_\"+str(b)]=s\r\n",
    "        dict[r[0,0].value[4:7]]=data.copy()\r\n",
    "        data.clear"
   ],
   "outputs": [],
   "metadata": {}
  },
  {
   "cell_type": "code",
   "execution_count": 16,
   "source": [
    "import os\r\n",
    "import json\r\n",
    "file=open1-30fo.json\",\"w\")\r\n",
    "file.write(json.dumps(dict))\r\n",
    "file.close()"
   ],
   "outputs": [],
   "metadata": {}
  }
 ]
}